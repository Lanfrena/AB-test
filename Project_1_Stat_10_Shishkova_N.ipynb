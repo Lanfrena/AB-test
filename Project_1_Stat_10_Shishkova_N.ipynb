{
 "cells": [
  {
   "cell_type": "code",
   "execution_count": 2,
   "metadata": {},
   "outputs": [],
   "source": [
    "# загружаем библиотеки\n",
    "import pandas as pd\n",
    "import numpy as np\n",
    "import seaborn as sns\n",
    "import matplotlib.pyplot as plt\n",
    "import plotly.express as px\n",
    "%matplotlib inline\n",
    "\n",
    "from scipy.stats import chi2_contingency, chi2, mannwhitneyu, kruskal, shapiro\n",
    "import statsmodels.api as sm\n",
    "import statsmodels.formula.api as smf\n",
    "import pingouin as pg\n",
    "import scipy.stats as ss\n"
   ]
  },
  {
   "cell_type": "markdown",
   "metadata": {},
   "source": [
    "# Кейс №1 - Приложение знакомств"
   ]
  },
  {
   "cell_type": "markdown",
   "metadata": {},
   "source": [
    "Вы работаете аналитиком в приложении для онлайн-знакомств. Механика приложения следующая: пользователи видят в приложении анкеты друг друга и могут ставить друг другу лайки или дизлайки. Если пользователи поставили друг другу лайк – это называется мэтч, и у пользователей появляется возможность познакомиться.\n",
    "\n",
    "Команда приложения разработала новый алгоритм для поиска наиболее подходящих анкет. Для проверки работы алгоритма был проведен АБ-тест. Все пользователи были разделены на две группы. Пользователи в группе с номером 0 пользовались приложением со старым алгоритмом. Все пользователи в группе 1 пользовались приложением с новым алгоритмом для поиска анкет.\n",
    "\n",
    "Ваша задача – оценить, правда ли, что новый алгоритм улучшил качество сервиса. Для этого нужно выбрать метрики, которые отвечают за качество сервиса, и статистически сравнить эти метрики в двух группах.\n",
    "\n",
    "В данных находится выгрузка логов взаимодействия пользователей друг с другом. Для каждой пары пользователей указано, из какой они группы АБ-теста и случился ли у них мэтч.\n",
    "\n",
    "Результат вашей работы – аналитическое заключение с ответом на вопрос, стоит ли включать новую систему поиска анкет на всех пользователей."
   ]
  },
  {
   "cell_type": "code",
   "execution_count": 3,
   "metadata": {},
   "outputs": [
    {
     "data": {
      "text/html": [
       "<div>\n",
       "<style scoped>\n",
       "    .dataframe tbody tr th:only-of-type {\n",
       "        vertical-align: middle;\n",
       "    }\n",
       "\n",
       "    .dataframe tbody tr th {\n",
       "        vertical-align: top;\n",
       "    }\n",
       "\n",
       "    .dataframe thead th {\n",
       "        text-align: right;\n",
       "    }\n",
       "</style>\n",
       "<table border=\"1\" class=\"dataframe\">\n",
       "  <thead>\n",
       "    <tr style=\"text-align: right;\">\n",
       "      <th></th>\n",
       "      <th>user_id_1</th>\n",
       "      <th>user_id_2</th>\n",
       "      <th>group</th>\n",
       "      <th>is_match</th>\n",
       "    </tr>\n",
       "  </thead>\n",
       "  <tbody>\n",
       "    <tr>\n",
       "      <th>0</th>\n",
       "      <td>79</td>\n",
       "      <td>91</td>\n",
       "      <td>1</td>\n",
       "      <td>1</td>\n",
       "    </tr>\n",
       "    <tr>\n",
       "      <th>1</th>\n",
       "      <td>716</td>\n",
       "      <td>353</td>\n",
       "      <td>1</td>\n",
       "      <td>1</td>\n",
       "    </tr>\n",
       "    <tr>\n",
       "      <th>2</th>\n",
       "      <td>423</td>\n",
       "      <td>677</td>\n",
       "      <td>0</td>\n",
       "      <td>0</td>\n",
       "    </tr>\n",
       "    <tr>\n",
       "      <th>3</th>\n",
       "      <td>658</td>\n",
       "      <td>165</td>\n",
       "      <td>1</td>\n",
       "      <td>1</td>\n",
       "    </tr>\n",
       "    <tr>\n",
       "      <th>4</th>\n",
       "      <td>969</td>\n",
       "      <td>155</td>\n",
       "      <td>0</td>\n",
       "      <td>1</td>\n",
       "    </tr>\n",
       "  </tbody>\n",
       "</table>\n",
       "</div>"
      ],
      "text/plain": [
       "   user_id_1  user_id_2  group  is_match\n",
       "0         79         91      1         1\n",
       "1        716        353      1         1\n",
       "2        423        677      0         0\n",
       "3        658        165      1         1\n",
       "4        969        155      0         1"
      ]
     },
     "execution_count": 3,
     "metadata": {},
     "output_type": "execute_result"
    },
    {
     "name": "stderr",
     "output_type": "stream",
     "text": [
      "/opt/tljh/user/lib/python3.7/site-packages/outdated/utils.py:18: OutdatedCacheFailedWarning: Failed to use cache while checking for outdated package.\n",
      "Set the environment variable OUTDATED_RAISE_EXCEPTION=1 for a full traceback.\n",
      "Set the environment variable OUTDATED_IGNORE=1 to disable these warnings.\n",
      "  **kwargs\n",
      "/opt/tljh/user/lib/python3.7/site-packages/outdated/utils.py:18: OutdatedPackageWarning: The package outdated is out of date. Your version is 0.2.1, the latest is 0.2.2.\n",
      "Set the environment variable OUTDATED_IGNORE=1 to disable these warnings.\n",
      "  **kwargs\n",
      "/opt/tljh/user/lib/python3.7/site-packages/outdated/utils.py:18: OutdatedPackageWarning: The package pingouin is out of date. Your version is 0.4.0, the latest is 0.5.4.\n",
      "Set the environment variable OUTDATED_IGNORE=1 to disable these warnings.\n",
      "  **kwargs\n"
     ]
    }
   ],
   "source": [
    "# выгружаем данные\n",
    "df = pd.read_csv('/mnt/HC_Volume_18315164/home-jupyter/jupyter-n-shishkova/dating_data.csv')\n",
    "df.head()"
   ]
  },
  {
   "cell_type": "markdown",
   "metadata": {},
   "source": [
    "    Подготовка данных"
   ]
  },
  {
   "cell_type": "code",
   "execution_count": 4,
   "metadata": {},
   "outputs": [
    {
     "data": {
      "text/plain": [
       "(14514, 4)"
      ]
     },
     "execution_count": 4,
     "metadata": {},
     "output_type": "execute_result"
    }
   ],
   "source": [
    "df.shape"
   ]
  },
  {
   "cell_type": "code",
   "execution_count": 5,
   "metadata": {},
   "outputs": [
    {
     "data": {
      "text/html": [
       "<div>\n",
       "<style scoped>\n",
       "    .dataframe tbody tr th:only-of-type {\n",
       "        vertical-align: middle;\n",
       "    }\n",
       "\n",
       "    .dataframe tbody tr th {\n",
       "        vertical-align: top;\n",
       "    }\n",
       "\n",
       "    .dataframe thead th {\n",
       "        text-align: right;\n",
       "    }\n",
       "</style>\n",
       "<table border=\"1\" class=\"dataframe\">\n",
       "  <thead>\n",
       "    <tr style=\"text-align: right;\">\n",
       "      <th></th>\n",
       "      <th>user_id_1</th>\n",
       "      <th>user_id_2</th>\n",
       "      <th>group</th>\n",
       "      <th>is_match</th>\n",
       "    </tr>\n",
       "  </thead>\n",
       "  <tbody>\n",
       "    <tr>\n",
       "      <th>count</th>\n",
       "      <td>14514.000000</td>\n",
       "      <td>14514.000000</td>\n",
       "      <td>14514.000000</td>\n",
       "      <td>14514.000000</td>\n",
       "    </tr>\n",
       "    <tr>\n",
       "      <th>mean</th>\n",
       "      <td>500.220132</td>\n",
       "      <td>501.843737</td>\n",
       "      <td>0.669836</td>\n",
       "      <td>0.333678</td>\n",
       "    </tr>\n",
       "    <tr>\n",
       "      <th>std</th>\n",
       "      <td>288.703825</td>\n",
       "      <td>287.250879</td>\n",
       "      <td>0.470288</td>\n",
       "      <td>0.471542</td>\n",
       "    </tr>\n",
       "    <tr>\n",
       "      <th>min</th>\n",
       "      <td>1.000000</td>\n",
       "      <td>1.000000</td>\n",
       "      <td>0.000000</td>\n",
       "      <td>0.000000</td>\n",
       "    </tr>\n",
       "    <tr>\n",
       "      <th>25%</th>\n",
       "      <td>253.000000</td>\n",
       "      <td>255.000000</td>\n",
       "      <td>0.000000</td>\n",
       "      <td>0.000000</td>\n",
       "    </tr>\n",
       "    <tr>\n",
       "      <th>50%</th>\n",
       "      <td>504.000000</td>\n",
       "      <td>500.000000</td>\n",
       "      <td>1.000000</td>\n",
       "      <td>0.000000</td>\n",
       "    </tr>\n",
       "    <tr>\n",
       "      <th>75%</th>\n",
       "      <td>751.000000</td>\n",
       "      <td>752.750000</td>\n",
       "      <td>1.000000</td>\n",
       "      <td>1.000000</td>\n",
       "    </tr>\n",
       "    <tr>\n",
       "      <th>max</th>\n",
       "      <td>1000.000000</td>\n",
       "      <td>1000.000000</td>\n",
       "      <td>1.000000</td>\n",
       "      <td>1.000000</td>\n",
       "    </tr>\n",
       "  </tbody>\n",
       "</table>\n",
       "</div>"
      ],
      "text/plain": [
       "          user_id_1     user_id_2         group      is_match\n",
       "count  14514.000000  14514.000000  14514.000000  14514.000000\n",
       "mean     500.220132    501.843737      0.669836      0.333678\n",
       "std      288.703825    287.250879      0.470288      0.471542\n",
       "min        1.000000      1.000000      0.000000      0.000000\n",
       "25%      253.000000    255.000000      0.000000      0.000000\n",
       "50%      504.000000    500.000000      1.000000      0.000000\n",
       "75%      751.000000    752.750000      1.000000      1.000000\n",
       "max     1000.000000   1000.000000      1.000000      1.000000"
      ]
     },
     "execution_count": 5,
     "metadata": {},
     "output_type": "execute_result"
    }
   ],
   "source": [
    "# смотрим информацию о данных\n",
    "df.describe()"
   ]
  },
  {
   "cell_type": "code",
   "execution_count": 6,
   "metadata": {},
   "outputs": [
    {
     "name": "stdout",
     "output_type": "stream",
     "text": [
      "<class 'pandas.core.frame.DataFrame'>\n",
      "RangeIndex: 14514 entries, 0 to 14513\n",
      "Data columns (total 4 columns):\n",
      " #   Column     Non-Null Count  Dtype\n",
      "---  ------     --------------  -----\n",
      " 0   user_id_1  14514 non-null  int64\n",
      " 1   user_id_2  14514 non-null  int64\n",
      " 2   group      14514 non-null  int64\n",
      " 3   is_match   14514 non-null  int64\n",
      "dtypes: int64(4)\n",
      "memory usage: 453.7 KB\n"
     ]
    }
   ],
   "source": [
    "# смотрим информацию о данных\n",
    "df.info()"
   ]
  },
  {
   "cell_type": "code",
   "execution_count": 7,
   "metadata": {},
   "outputs": [
    {
     "data": {
      "text/plain": [
       "user_id_1    0\n",
       "user_id_2    0\n",
       "group        0\n",
       "is_match     0\n",
       "dtype: int64"
      ]
     },
     "execution_count": 7,
     "metadata": {},
     "output_type": "execute_result"
    }
   ],
   "source": [
    "# проверяем пропущенные данные\n",
    "df.isna().sum()"
   ]
  },
  {
   "cell_type": "code",
   "execution_count": 8,
   "metadata": {},
   "outputs": [
    {
     "data": {
      "text/plain": [
       "user_id_1    1000\n",
       "user_id_2    1000\n",
       "group           2\n",
       "is_match        2\n",
       "dtype: int64"
      ]
     },
     "execution_count": 8,
     "metadata": {},
     "output_type": "execute_result"
    }
   ],
   "source": [
    "# проверяем уникальность \n",
    "df.nunique()"
   ]
  },
  {
   "cell_type": "code",
   "execution_count": 9,
   "metadata": {
    "scrolled": false
   },
   "outputs": [
    {
     "data": {
      "text/plain": [
       "<seaborn.axisgrid.FacetGrid at 0x7fdd0dc8f748>"
      ]
     },
     "execution_count": 9,
     "metadata": {},
     "output_type": "execute_result"
    },
    {
     "data": {
      "image/png": "[encoded data removed]",
      "text/plain": [
       "<Figure size 402.375x360 with 1 Axes>"
      ]
     },
     "metadata": {
      "needs_background": "light"
     },
     "output_type": "display_data"
    }
   ],
   "source": [
    "# визуализируем данные по группам\n",
    "sns.displot(df, x='is_match', hue= 'group', palette=\"Set1\")"
   ]
  },
  {
   "cell_type": "markdown",
   "metadata": {},
   "source": [
    "    У нас есть две группы: \n",
    "        - группа_0 - приложение для пользователей со старым алгоритмом поиска партнера \n",
    "        - группа_1 - приложение для пользователей с новым алгоритмом поиска партнера\n",
    "\n",
    "    На первый взгляд по визуализации мы можем сделать очевидный вывод, что данные нового алгоритма \n",
    "    (группа_1) значительно выше.\n",
    "\n",
    "    Возьмем значения по группам match-событий == 1 как положительный исход и их долю примем за конверсию \n",
    "    идеального алгоритма, т.е. оценим результаты поиска партнера по группам."
   ]
  },
  {
   "cell_type": "code",
   "execution_count": 10,
   "metadata": {
    "scrolled": true
   },
   "outputs": [
    {
     "name": "stdout",
     "output_type": "stream",
     "text": [
      "Размер выборки группы_0: 4792\n",
      "Размер выборки группы_1: 9722\n",
      "Среднее группы_0: 0.19490818030050083\n",
      "Среднее группы_1: 0.40207776177741206\n",
      "Дисперсия группы_0: 0.15695173441856233\n",
      "Дисперсия группы_1: 0.24043596638330383\n"
     ]
    }
   ],
   "source": [
    "# пользователи группы 0 со старым алгоритмом приложения \n",
    "group_0 = df.query('group == 0')\n",
    "# пользователи в группе 1 пользовались приложением с новым алгоритмом \n",
    "group_1 = df.query('group == 1')\n",
    "\n",
    "print('Размер выборки группы_0:', group_0.is_match.count()) \n",
    "print('Размер выборки группы_1:', group_1.is_match.count()) \n",
    "print('Среднее группы_0:', group_0.is_match.mean()) \n",
    "print('Среднее группы_1:', group_1.is_match.mean()) \n",
    "print('Дисперсия группы_0:', group_0.is_match.var()) \n",
    "print('Дисперсия группы_1:', group_1.is_match.var()) \n"
   ]
  },
  {
   "cell_type": "code",
   "execution_count": 11,
   "metadata": {},
   "outputs": [
    {
     "name": "stdout",
     "output_type": "stream",
     "text": [
      "Доверительный интервал группы_0: (0.18016080315368263, 0.20965555744731904)\n",
      "Доверительный интервал группы_1: (0.38926554525945894, 0.41488997829536517)\n"
     ]
    }
   ],
   "source": [
    "# рассчитаем доверительный интервал группы_0\n",
    "print('Доверительный интервал группы_0:', ss.t.interval(alpha=0.99, df=len(group_0.is_match)-1, \n",
    "                                                        loc=np.mean(group_0.is_match), \n",
    "                                                        scale=ss.sem(group_0.is_match)))\n",
    "# рассчитаем доверительный интервал группы_1\n",
    "print('Доверительный интервал группы_1:', ss.t.interval(alpha=0.99, df=len(group_1.is_match)-1, \n",
    "                                                        loc=np.mean(group_1.is_match), \n",
    "                                                        scale=ss.sem(group_1.is_match)))"
   ]
  },
  {
   "cell_type": "code",
   "execution_count": 12,
   "metadata": {},
   "outputs": [
    {
     "name": "stdout",
     "output_type": "stream",
     "text": [
      "Количество мэтчей группы_0: 934\n",
      "Количество мэтчей группы_1: 3909\n",
      "Процент возможности познакомиться группы_0: 19.49\n",
      "Процент возможности познакомиться группы_1: 40.21\n"
     ]
    }
   ],
   "source": [
    "group_0_match = df.query('group == 0 & is_match == 1')\n",
    "group_1_match = df.query('group == 1 & is_match == 1')\n",
    "print('Количество мэтчей группы_0:', group_0_match.is_match.count())\n",
    "print('Количество мэтчей группы_1:', group_1_match.is_match.count())\n",
    "\n",
    "# процент возможности познакомиться в приложении со старым алгоритмом \n",
    "print('Процент возможности познакомиться группы_0:', \n",
    "      round(group_0_match.is_match.count() / group_0.is_match.count() * 100, 2))\n",
    "# процент возможности познакомиться в приложении с новым алгоритмом\n",
    "print('Процент возможности познакомиться группы_1:', \n",
    "      round(group_1_match.is_match.count() / group_1.is_match.count() * 100, 2))"
   ]
  },
  {
   "cell_type": "markdown",
   "metadata": {},
   "source": [
    "    Мы наблюдаем, что \n",
    "\n",
    "        - Размер выборки группы_1 практически в 2 раза больше, чем размер группы_0\n",
    "        - Среднее значение группы_1 более чем в два раза превышает среднее группы_0\n",
    "        - Доверительные интервалы выборок с уровнем достоверности 99% не пересекаются\n",
    "        - В процентном соотношении положительный matсh исход группы_1 в 2 раза выше группы_0\n"
   ]
  },
  {
   "cell_type": "code",
   "execution_count": 13,
   "metadata": {},
   "outputs": [
    {
     "name": "stdout",
     "output_type": "stream",
     "text": [
      "группа_0: NormaltestResult(statistic=1056.7389057083074, pvalue=3.4045696177523702e-230)\n",
      "группа_1: NormaltestResult(statistic=37375.72668370961, pvalue=0.0)\n"
     ]
    }
   ],
   "source": [
    "# тестируем нормальность с помощью scipy.stats\n",
    "print('группа_0:', ss.normaltest(group_0.is_match))\n",
    "print('группа_1:', ss.normaltest(group_1.is_match))"
   ]
  },
  {
   "cell_type": "code",
   "execution_count": 14,
   "metadata": {},
   "outputs": [
    {
     "data": {
      "text/html": [
       "<div>\n",
       "<style scoped>\n",
       "    .dataframe tbody tr th:only-of-type {\n",
       "        vertical-align: middle;\n",
       "    }\n",
       "\n",
       "    .dataframe tbody tr th {\n",
       "        vertical-align: top;\n",
       "    }\n",
       "\n",
       "    .dataframe thead th {\n",
       "        text-align: right;\n",
       "    }\n",
       "</style>\n",
       "<table border=\"1\" class=\"dataframe\">\n",
       "  <thead>\n",
       "    <tr style=\"text-align: right;\">\n",
       "      <th></th>\n",
       "      <th>W</th>\n",
       "      <th>pval</th>\n",
       "      <th>normal</th>\n",
       "    </tr>\n",
       "  </thead>\n",
       "  <tbody>\n",
       "    <tr>\n",
       "      <th>1</th>\n",
       "      <td>37375.726684</td>\n",
       "      <td>0.000000e+00</td>\n",
       "      <td>False</td>\n",
       "    </tr>\n",
       "    <tr>\n",
       "      <th>0</th>\n",
       "      <td>1056.738906</td>\n",
       "      <td>3.404570e-230</td>\n",
       "      <td>False</td>\n",
       "    </tr>\n",
       "  </tbody>\n",
       "</table>\n",
       "</div>"
      ],
      "text/plain": [
       "              W           pval  normal\n",
       "1  37375.726684   0.000000e+00   False\n",
       "0   1056.738906  3.404570e-230   False"
      ]
     },
     "execution_count": 14,
     "metadata": {},
     "output_type": "execute_result"
    }
   ],
   "source": [
    "# тестируем нормальность с помощью pingouin\n",
    "pg.normality(data = df, dv='is_match', group='group', method='normaltest')"
   ]
  },
  {
   "cell_type": "markdown",
   "metadata": {},
   "source": [
    "    Для анализа преобразуем исходные данные в таблицу сопряженности, содержащую номера групп и результатов \n",
    "    is_match с разбивкой по количеству удачных и неудачных поисков партнеров.\n",
    "\n",
    "    В нашем случае is_match принимает всего два значения, то есть является категориальной переменной.\n",
    "\n",
    "    Для A/B тестирования будем использовать критерий согласия Пирсона(Хи-квадрат).\n",
    "\n",
    "    Сформулируем гипотезы, которые будем тестировать:\n",
    "\n",
    "        - Hулевая гипотеза - конверсия match-событий не зависит от группы тестирования \n",
    "        - Альтернативная гипотеза - конверсия match-событий зависит от группы тестирования\n"
   ]
  },
  {
   "cell_type": "code",
   "execution_count": 15,
   "metadata": {},
   "outputs": [
    {
     "data": {
      "text/plain": [
       "array([[3858,  934],\n",
       "       [5813, 3909]])"
      ]
     },
     "execution_count": 15,
     "metadata": {},
     "output_type": "execute_result"
    }
   ],
   "source": [
    "df_chi = df.groupby(['group','is_match'], as_index = False) \\\n",
    "                                .agg({'user_id_1':'count'}) \\\n",
    "                                .rename(columns={'user_id_1': 'count_users'}) \\\n",
    "                                .pivot_table(index='group', columns='is_match', values='count_users') \\\n",
    "                                .reset_index()[[0,1]].to_numpy()\n",
    "df_chi"
   ]
  },
  {
   "cell_type": "code",
   "execution_count": 16,
   "metadata": {},
   "outputs": [
    {
     "name": "stdout",
     "output_type": "stream",
     "text": [
      "Statistic: 618.6889141576198\n",
      "Pvalue: 1.4418299163662586e-136\n",
      "Degree of freedom: 1\n",
      "Отвергаем нулевую гипотезу. Конверсия match-событий зависит от группы тестирования\n"
     ]
    }
   ],
   "source": [
    "# проводим тест Хи-квадрат\n",
    "statistic, pvalue, dof, expected = chi2_contingency(df_chi)\n",
    "print('Statistic:', statistic)\n",
    "print('Pvalue:', pvalue)\n",
    "print('Degree of freedom:', dof)\n",
    "\n",
    "# Проверяем гипотезу о независимости переменных\n",
    "alpha = 0.05\n",
    "if pvalue > alpha:\n",
    "    print(\"Hулевая гипотеза - конверсия match-событий не зависит от группы тестирования\")\n",
    "else:\n",
    "    print(\"Отвергаем нулевую гипотезу. Конверсия match-событий зависит от группы тестирования\")"
   ]
  },
  {
   "cell_type": "markdown",
   "metadata": {},
   "source": [
    "\n",
    "    По результатам проведенного теста мы можем сделать вывод: Конверсия зависит от групп тестирования.\n",
    "    \n",
    "    Воспользуемся регрессионным анализом, чтобы проверить на сколько сильно влияет новый алгоритм на конверсию \n",
    "    для наших данных, возьмем в качестве зависимой переменной is_match, а в качестве независимой - group."
   ]
  },
  {
   "cell_type": "code",
   "execution_count": 17,
   "metadata": {},
   "outputs": [
    {
     "name": "stdout",
     "output_type": "stream",
     "text": [
      "                            OLS Regression Results                            \n",
      "==============================================================================\n",
      "Dep. Variable:               is_match   R-squared:                       0.043\n",
      "Model:                            OLS   Adj. R-squared:                  0.043\n",
      "Method:                 Least Squares   F-statistic:                     647.2\n",
      "Date:                Fri, 31 May 2024   Prob (F-statistic):          1.04e-139\n",
      "Time:                        22:38:45   Log-Likelihood:                -9366.5\n",
      "No. Observations:               14514   AIC:                         1.874e+04\n",
      "Df Residuals:                   14512   BIC:                         1.875e+04\n",
      "Df Model:                           1                                         \n",
      "Covariance Type:            nonrobust                                         \n",
      "==============================================================================\n",
      "                 coef    std err          t      P>|t|      [0.025      0.975]\n",
      "------------------------------------------------------------------------------\n",
      "const          0.1949      0.007     29.243      0.000       0.182       0.208\n",
      "group          0.2072      0.008     25.439      0.000       0.191       0.223\n",
      "==============================================================================\n",
      "Omnibus:                   133641.948   Durbin-Watson:                   2.012\n",
      "Prob(Omnibus):                  0.000   Jarque-Bera (JB):             2192.292\n",
      "Skew:                           0.643   Prob(JB):                         0.00\n",
      "Kurtosis:                       1.596   Cond. No.                         3.24\n",
      "==============================================================================\n",
      "\n",
      "Notes:\n",
      "[1] Standard Errors assume that the covariance matrix of the errors is correctly specified.\n"
     ]
    }
   ],
   "source": [
    "# через statsmodels \n",
    "Y = df.is_match # одномерный массив с ЗП\n",
    "X = df.group # массив с НП\n",
    "\n",
    "X = sm.add_constant(X)  # добавить константу, чтобы был свободный член\n",
    "model = sm.OLS(Y, X)  # говорим модели, что у нас ЗП, а что НП\n",
    "results = model.fit()  # строим регрессионную прямую\n",
    "print(results.summary())  # смотрим результат\n",
    "\n",
    "# второй вариант\n",
    "# results = smf.ols('is_match ~ group', df).fit()\n",
    "# print(results.summary())"
   ]
  },
  {
   "cell_type": "markdown",
   "metadata": {},
   "source": [
    "    Вывод: \n",
    "        1. По результатам проведенного хи-теста: Конверсия зависит от групп тестирования.\n",
    "        2. Исходя из результатов регрессионного анализа мы видим, что в среднем при применении нового алгоритма вероятность положительного match-исхода увеличивается приблизительно на 21%, то есть вырастает вдвое. \n",
    "    \n",
    "    Соответственно безусловно стоит включать новый алгоритм поиска анкет на всех пользователей."
   ]
  },
  {
   "cell_type": "code",
   "execution_count": null,
   "metadata": {},
   "outputs": [],
   "source": []
  },
  {
   "cell_type": "code",
   "execution_count": null,
   "metadata": {},
   "outputs": [],
   "source": []
  },
  {
   "cell_type": "code",
   "execution_count": null,
   "metadata": {},
   "outputs": [],
   "source": []
  },
  {
   "cell_type": "code",
   "execution_count": null,
   "metadata": {},
   "outputs": [],
   "source": []
  },
  {
   "cell_type": "code",
   "execution_count": null,
   "metadata": {},
   "outputs": [],
   "source": []
  },
  {
   "cell_type": "code",
   "execution_count": null,
   "metadata": {},
   "outputs": [],
   "source": []
  },
  {
   "cell_type": "code",
   "execution_count": null,
   "metadata": {},
   "outputs": [],
   "source": []
  },
  {
   "cell_type": "code",
   "execution_count": null,
   "metadata": {},
   "outputs": [],
   "source": []
  },
  {
   "cell_type": "code",
   "execution_count": null,
   "metadata": {},
   "outputs": [],
   "source": []
  },
  {
   "cell_type": "code",
   "execution_count": null,
   "metadata": {},
   "outputs": [],
   "source": []
  },
  {
   "cell_type": "code",
   "execution_count": null,
   "metadata": {},
   "outputs": [],
   "source": []
  }
 ],
 "metadata": {
  "kernelspec": {
   "display_name": "Python 3",
   "language": "python",
   "name": "python3"
  },
  "language_info": {
   "codemirror_mode": {
    "name": "ipython",
    "version": 3
   },
   "file_extension": ".py",
   "mimetype": "text/x-python",
   "name": "python",
   "nbconvert_exporter": "python",
   "pygments_lexer": "ipython3",
   "version": "3.7.3"
  }
 },
 "nbformat": 4,
 "nbformat_minor": 4
}
